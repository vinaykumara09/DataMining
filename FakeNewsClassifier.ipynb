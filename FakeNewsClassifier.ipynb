{
  "nbformat": 4,
  "nbformat_minor": 0,
  "metadata": {
    "colab": {
      "name": "FakeNewsClassifier.ipynb",
      "provenance": [],
      "collapsed_sections": []
    },
    "kernelspec": {
      "name": "python3",
      "display_name": "Python 3"
    },
    "language_info": {
      "name": "python"
    }
  },
  "cells": [
    {
      "cell_type": "markdown",
      "metadata": {
        "id": "fWapLhGPNoqg"
      },
      "source": [
        "References\n",
        "\n",
        "\n",
        "The code has been referred from the below link to understand and I extended it for other various models\n",
        "https://www.kaggle.com/rishabh0502/fake-news-classifier-using-random-forest-93/notebook\n",
        "\n",
        "https://www.delftstack.com/howto/python/python-bold-text/\n",
        "\n",
        "https://www.kaggle.com/c/fake-news/data?select=train.csv\n",
        "\n",
        "Please note that some references are also added in blog post\n",
        "\n",
        "\n",
        "\n",
        "\n",
        "# Fake news classifier"
      ]
    },
    {
      "cell_type": "markdown",
      "metadata": {
        "id": "OpPve-aXN4MP"
      },
      "source": [
        "# Importing libraries"
      ]
    },
    {
      "cell_type": "code",
      "metadata": {
        "colab": {
          "base_uri": "https://localhost:8080/",
          "height": 478
        },
        "id": "4prWX3jsI9FW",
        "cellView": "code",
        "outputId": "9ce45c06-9033-4047-874e-b52f45383d71"
      },
      "source": [
        "import pandas as pd\n",
        "import numpy as np\n",
        "import matplotlib.pyplot as plt\n",
        "from sklearn.feature_extraction.text import TfidfVectorizer\n",
        "from sklearn.ensemble import RandomForestClassifier\n",
        "from sklearn.model_selection import train_test_split\n",
        "from sklearn.metrics import accuracy_score\n",
        "from sklearn.naive_bayes import MultinomialNB\n",
        "from sklearn.tree import DecisionTreeClassifier\n",
        "from sklearn import svm\n",
        "from sklearn.linear_model import LogisticRegression\n",
        "from sklearn.neighbors import KNeighborsClassifier\n",
        "from sklearn.ensemble import AdaBoostClassifier\n",
        "import time\n",
        "import warnings\n",
        "warnings.filterwarnings(\"ignore\")\n",
        "news_file = pd.read_csv(\"https://drive.google.com/uc?export=download&id=1qIvqLzSo9ZxDRXPS1TYzCpZgVETB1WZM\")\n",
        "df = news_file.dropna()\n",
        "print('\\033[1m'+ \"\\n\\t\\t\\t\\t\\t\\tDataset\\n\" + '\\033[0m')\n",
        "df"
      ],
      "execution_count": 2,
      "outputs": [
        {
          "output_type": "stream",
          "name": "stdout",
          "text": [
            "\u001b[1m\n",
            "\t\t\t\t\t\tDataset\n",
            "\u001b[0m\n"
          ]
        },
        {
          "output_type": "execute_result",
          "data": {
            "text/html": [
              "<div>\n",
              "<style scoped>\n",
              "    .dataframe tbody tr th:only-of-type {\n",
              "        vertical-align: middle;\n",
              "    }\n",
              "\n",
              "    .dataframe tbody tr th {\n",
              "        vertical-align: top;\n",
              "    }\n",
              "\n",
              "    .dataframe thead th {\n",
              "        text-align: right;\n",
              "    }\n",
              "</style>\n",
              "<table border=\"1\" class=\"dataframe\">\n",
              "  <thead>\n",
              "    <tr style=\"text-align: right;\">\n",
              "      <th></th>\n",
              "      <th>id</th>\n",
              "      <th>title</th>\n",
              "      <th>author</th>\n",
              "      <th>text</th>\n",
              "      <th>label</th>\n",
              "    </tr>\n",
              "  </thead>\n",
              "  <tbody>\n",
              "    <tr>\n",
              "      <th>0</th>\n",
              "      <td>0</td>\n",
              "      <td>House Dem Aide: We Didn’t Even See Comey’s Let...</td>\n",
              "      <td>Darrell Lucus</td>\n",
              "      <td>House Dem Aide: We Didn’t Even See Comey’s Let...</td>\n",
              "      <td>1</td>\n",
              "    </tr>\n",
              "    <tr>\n",
              "      <th>1</th>\n",
              "      <td>1</td>\n",
              "      <td>FLYNN: Hillary Clinton, Big Woman on Campus - ...</td>\n",
              "      <td>Daniel J. Flynn</td>\n",
              "      <td>Ever get the feeling your life circles the rou...</td>\n",
              "      <td>0</td>\n",
              "    </tr>\n",
              "    <tr>\n",
              "      <th>2</th>\n",
              "      <td>2</td>\n",
              "      <td>Why the Truth Might Get You Fired</td>\n",
              "      <td>Consortiumnews.com</td>\n",
              "      <td>Why the Truth Might Get You Fired October 29, ...</td>\n",
              "      <td>1</td>\n",
              "    </tr>\n",
              "    <tr>\n",
              "      <th>3</th>\n",
              "      <td>3</td>\n",
              "      <td>15 Civilians Killed In Single US Airstrike Hav...</td>\n",
              "      <td>Jessica Purkiss</td>\n",
              "      <td>Videos 15 Civilians Killed In Single US Airstr...</td>\n",
              "      <td>1</td>\n",
              "    </tr>\n",
              "    <tr>\n",
              "      <th>4</th>\n",
              "      <td>4</td>\n",
              "      <td>Iranian woman jailed for fictional unpublished...</td>\n",
              "      <td>Howard Portnoy</td>\n",
              "      <td>Print \\nAn Iranian woman has been sentenced to...</td>\n",
              "      <td>1</td>\n",
              "    </tr>\n",
              "    <tr>\n",
              "      <th>...</th>\n",
              "      <td>...</td>\n",
              "      <td>...</td>\n",
              "      <td>...</td>\n",
              "      <td>...</td>\n",
              "      <td>...</td>\n",
              "    </tr>\n",
              "    <tr>\n",
              "      <th>20795</th>\n",
              "      <td>20795</td>\n",
              "      <td>Rapper T.I.: Trump a ’Poster Child For White S...</td>\n",
              "      <td>Jerome Hudson</td>\n",
              "      <td>Rapper T. I. unloaded on black celebrities who...</td>\n",
              "      <td>0</td>\n",
              "    </tr>\n",
              "    <tr>\n",
              "      <th>20796</th>\n",
              "      <td>20796</td>\n",
              "      <td>N.F.L. Playoffs: Schedule, Matchups and Odds -...</td>\n",
              "      <td>Benjamin Hoffman</td>\n",
              "      <td>When the Green Bay Packers lost to the Washing...</td>\n",
              "      <td>0</td>\n",
              "    </tr>\n",
              "    <tr>\n",
              "      <th>20797</th>\n",
              "      <td>20797</td>\n",
              "      <td>Macy’s Is Said to Receive Takeover Approach by...</td>\n",
              "      <td>Michael J. de la Merced and Rachel Abrams</td>\n",
              "      <td>The Macy’s of today grew from the union of sev...</td>\n",
              "      <td>0</td>\n",
              "    </tr>\n",
              "    <tr>\n",
              "      <th>20798</th>\n",
              "      <td>20798</td>\n",
              "      <td>NATO, Russia To Hold Parallel Exercises In Bal...</td>\n",
              "      <td>Alex Ansary</td>\n",
              "      <td>NATO, Russia To Hold Parallel Exercises In Bal...</td>\n",
              "      <td>1</td>\n",
              "    </tr>\n",
              "    <tr>\n",
              "      <th>20799</th>\n",
              "      <td>20799</td>\n",
              "      <td>What Keeps the F-35 Alive</td>\n",
              "      <td>David Swanson</td>\n",
              "      <td>David Swanson is an author, activist, journa...</td>\n",
              "      <td>1</td>\n",
              "    </tr>\n",
              "  </tbody>\n",
              "</table>\n",
              "<p>18285 rows × 5 columns</p>\n",
              "</div>"
            ],
            "text/plain": [
              "          id  ... label\n",
              "0          0  ...     1\n",
              "1          1  ...     0\n",
              "2          2  ...     1\n",
              "3          3  ...     1\n",
              "4          4  ...     1\n",
              "...      ...  ...   ...\n",
              "20795  20795  ...     0\n",
              "20796  20796  ...     0\n",
              "20797  20797  ...     0\n",
              "20798  20798  ...     1\n",
              "20799  20799  ...     1\n",
              "\n",
              "[18285 rows x 5 columns]"
            ]
          },
          "metadata": {},
          "execution_count": 2
        }
      ]
    },
    {
      "cell_type": "code",
      "metadata": {
        "colab": {
          "base_uri": "https://localhost:8080/"
        },
        "id": "W6JAtoTzNyk3",
        "cellView": "form",
        "outputId": "522bef1f-5f9c-4b04-b715-218418a4c7c0"
      },
      "source": [
        "#@title Please select the training size\n",
        "training_size = 0.82 #@param [\"0.82\", \"0.90\"] {type:\"raw\"}\n",
        "# Some lines in this cell has been referred from https://www.kaggle.com/rishabh0502/fake-news-classifier-using-random-forest-93/notebook and modified as per the requirement\n",
        "np.random.seed(5)\n",
        "data1_label_drop = df.drop('label', errors='raise', axis=1)\n",
        "data2 = df['label']\n",
        "\n",
        "full_line =[]   \n",
        "for row in range(len(data1_label_drop.title)): \n",
        "    full_line.append(' '.join(str(value).lower() for value in data1_label_drop.iloc[row,0:2])) \n",
        "\n",
        "tfidf = TfidfVectorizer()\n",
        "data1 = tfidf.fit_transform(full_line)\n",
        "X_train, X_test, y_train, y_test = train_test_split(data1, data2, train_size=training_size, random_state=0)\n",
        "print('\\033[1m'+ \"\\n\\t\\tX_train\\n\\n\" + '\\033[0m' ,X_train)\n",
        "print('\\033[1m'+ \"\\n\\t\\ty_train\\n\\n\" + '\\033[0m' ,y_train)\n",
        "print('\\033[1m'+ \"\\n\\t\\tX_test\\n\\n\" + '\\033[0m' ,X_test)\n",
        "print('\\033[1m'+ \"\\n\\t\\ty_test\\n\\n\" + '\\033[0m' ,y_test)"
      ],
      "execution_count": 3,
      "outputs": [
        {
          "output_type": "stream",
          "name": "stdout",
          "text": [
            "\u001b[1m\n",
            "\t\tX_train\n",
            "\n",
            "\u001b[0m   (0, 25794)\t0.3263500927340711\n",
            "  (0, 18801)\t0.38261178724914713\n",
            "  (0, 24795)\t0.36615629648997283\n",
            "  (0, 10949)\t0.41074263450668524\n",
            "  (0, 25036)\t0.33802544923243477\n",
            "  (0, 37850)\t0.2019536642339229\n",
            "  (0, 35731)\t0.3172939826688845\n",
            "  (0, 29541)\t0.2688395540281894\n",
            "  (0, 27597)\t0.13830245033795205\n",
            "  (0, 36297)\t0.08401747715769935\n",
            "  (0, 38206)\t0.08416010560231872\n",
            "  (0, 30259)\t0.08153842379851263\n",
            "  (0, 25427)\t0.2676279943910713\n",
            "  (0, 36151)\t0.06917038633492423\n",
            "  (1, 12141)\t0.4362635963395373\n",
            "  (1, 27085)\t0.37650615427418477\n",
            "  (1, 36361)\t0.36688735453446436\n",
            "  (1, 37342)\t0.3273898337620676\n",
            "  (1, 26618)\t0.26352396226958075\n",
            "  (1, 20587)\t0.24710389705728886\n",
            "  (1, 37911)\t0.1939912561088294\n",
            "  (1, 27910)\t0.2254607806424564\n",
            "  (1, 37795)\t0.2000158179974588\n",
            "  (1, 23243)\t0.26677878196808763\n",
            "  (1, 30515)\t0.19542031126741627\n",
            "  :\t:\n",
            "  (14991, 26003)\t0.3035071772198953\n",
            "  (14991, 36148)\t0.21443205891331776\n",
            "  (14991, 2987)\t0.3310376939635799\n",
            "  (14991, 37979)\t0.17779919147850734\n",
            "  (14991, 36297)\t0.09651879137809649\n",
            "  (14991, 38206)\t0.09668264210959324\n",
            "  (14991, 30259)\t0.09367086923040577\n",
            "  (14991, 36328)\t0.11198064540970924\n",
            "  (14991, 26384)\t0.23466009823053727\n",
            "  (14991, 36151)\t0.07946253939131852\n",
            "  (14992, 31820)\t0.3493488474712459\n",
            "  (14992, 34464)\t0.38412604796673894\n",
            "  (14992, 11662)\t0.38412604796673894\n",
            "  (14992, 37015)\t0.2676801554739817\n",
            "  (14992, 25659)\t0.2659546615414668\n",
            "  (14992, 22037)\t0.2590347690720703\n",
            "  (14992, 20941)\t0.28677511451052556\n",
            "  (14992, 37850)\t0.18886683873893287\n",
            "  (14992, 27844)\t0.27772638393379734\n",
            "  (14992, 30850)\t0.19246214836766823\n",
            "  (14992, 19405)\t0.16019939889031118\n",
            "  (14992, 35247)\t0.19056403637909491\n",
            "  (14992, 19495)\t0.1480654647406725\n",
            "  (14992, 23668)\t0.20972135437992387\n",
            "  (14992, 20600)\t0.11574533440382907\n",
            "\u001b[1m\n",
            "\t\ty_train\n",
            "\n",
            "\u001b[0m 2419     0\n",
            "3632     1\n",
            "17583    0\n",
            "7610     0\n",
            "3597     0\n",
            "        ..\n",
            "10515    1\n",
            "14930    1\n",
            "11206    1\n",
            "12267    0\n",
            "3126     0\n",
            "Name: label, Length: 14993, dtype: int64\n",
            "\u001b[1m\n",
            "\t\tX_test\n",
            "\n",
            "\u001b[0m   (0, 35441)\t0.3926793141578912\n",
            "  (0, 26310)\t0.3926793141578912\n",
            "  (0, 28011)\t0.3926793141578912\n",
            "  (0, 5049)\t0.3926793141578912\n",
            "  (0, 19517)\t0.36578558343758866\n",
            "  (0, 27008)\t0.3145021812462159\n",
            "  (0, 30015)\t0.2304180606328635\n",
            "  (0, 38015)\t0.22123072035993635\n",
            "  (0, 38050)\t0.19387231999067833\n",
            "  (0, 27145)\t0.10430301584898531\n",
            "  (1, 13999)\t0.4448029272658814\n",
            "  (1, 21362)\t0.38387580572832564\n",
            "  (1, 19702)\t0.4045322904153255\n",
            "  (1, 32787)\t0.3033345320272139\n",
            "  (1, 26144)\t0.2737588727306225\n",
            "  (1, 9967)\t0.2374266569231405\n",
            "  (1, 11232)\t0.359280899998252\n",
            "  (1, 24850)\t0.22258280479683343\n",
            "  (1, 29575)\t0.2596814860444663\n",
            "  (1, 30259)\t0.08829989035295562\n",
            "  (1, 27145)\t0.118148028428189\n",
            "  (2, 14721)\t0.4446865321771168\n",
            "  (2, 23320)\t0.38377535391979783\n",
            "  (2, 36270)\t0.35918688413261063\n",
            "  (2, 25341)\t0.2848578080506914\n",
            "  :\t:\n",
            "  (3290, 6871)\t0.26456601297494536\n",
            "  (3290, 30515)\t0.15792051943774627\n",
            "  (3290, 36297)\t0.07211368533030615\n",
            "  (3290, 38206)\t0.07223610584473229\n",
            "  (3290, 30259)\t0.0699858700243803\n",
            "  (3290, 30591)\t0.09570232365658676\n",
            "  (3290, 36664)\t0.09313176954847265\n",
            "  (3290, 27145)\t0.09364329364578027\n",
            "  (3290, 36151)\t0.059370164911876584\n",
            "  (3291, 27003)\t0.28320119383665593\n",
            "  (3291, 26344)\t0.28320119383665593\n",
            "  (3291, 32954)\t0.28320119383665593\n",
            "  (3291, 19282)\t0.28320119383665593\n",
            "  (3291, 5595)\t0.28320119383665593\n",
            "  (3291, 18865)\t0.27185536743184824\n",
            "  (3291, 30975)\t0.26380537548792365\n",
            "  (3291, 33458)\t0.25245954908311596\n",
            "  (3291, 32559)\t0.27185536743184824\n",
            "  (3291, 32003)\t0.27185536743184824\n",
            "  (3291, 31076)\t0.20935442937927495\n",
            "  (3291, 27525)\t0.27185536743184824\n",
            "  (3291, 32447)\t0.2161026865717061\n",
            "  (3291, 28246)\t0.17763085050876024\n",
            "  (3291, 22723)\t0.16934066609480958\n",
            "  (3291, 30340)\t0.1388392138112957\n",
            "\u001b[1m\n",
            "\t\ty_test\n",
            "\n",
            "\u001b[0m 15130    0\n",
            "5504     0\n",
            "6238     1\n",
            "13189    0\n",
            "8515     0\n",
            "        ..\n",
            "3545     1\n",
            "6564     0\n",
            "18928    1\n",
            "7151     0\n",
            "15690    1\n",
            "Name: label, Length: 3292, dtype: int64\n"
          ]
        }
      ]
    },
    {
      "cell_type": "markdown",
      "metadata": {
        "id": "_vXfuc7gJeCA"
      },
      "source": [
        "# MultinomialNaive Bayes"
      ]
    },
    {
      "cell_type": "code",
      "metadata": {
        "colab": {
          "base_uri": "https://localhost:8080/",
          "height": 376
        },
        "cellView": "form",
        "id": "BZtb5UPWJZlY",
        "outputId": "0d9151c0-3ab5-4951-dbd7-9d7d3d5749fb"
      },
      "source": [
        "#@title Select an alpha value (Default values are selected)\n",
        "Alpha_Value1 = 1 #@param [\"1\", \"0.007\"] {type:\"raw\"}\n",
        "Alpha_Value2 = 0.5 #@param [\"0.5\", \"0.006\"] {type:\"raw\"}\n",
        "Alpha_Value3 = 0.4 #@param [\"0.4\", \"0.004\"] {type:\"raw\"}\n",
        "Alpha_Value4 = 0.3 #@param [\"0.3\", \"0.003\"] {type:\"raw\"}\n",
        "Alpha_Value5 = 0.1 #@param [\"0.1\", \"0.0001\"] {type:\"raw\"}\n",
        "starttime1 = time.time()\n",
        "def naive_bayes(alpha):\n",
        "  model_nb = MultinomialNB(alpha=alpha)\n",
        "  model_nb.fit(X_train, y_train)\n",
        "  y_pred = model_nb.predict(X_test)\n",
        "  nb_accuracy = accuracy_score(y_test, y_pred)*100\n",
        "  return nb_accuracy\n",
        "\n",
        "alpha = [Alpha_Value1, Alpha_Value2, Alpha_Value3, Alpha_Value4, Alpha_Value5]\n",
        "accuracy1 = []\n",
        "for i in alpha:\n",
        "  accuracy1.append(naive_bayes(i))\n",
        "stoptime1 = time.time()\n",
        "trainingtime1 = stoptime1 - starttime1  \n",
        "plt.bar(alpha, accuracy1, width=0.1, color='grcmykb')\n",
        "plt.ylim(60, 100)\n",
        "plt.title(\"\\nNaive Bayes with different alpha values and their accuracies\\n\\n\")\n",
        "plt.xlabel(\"Alpha\")\n",
        "plt.ylabel(\"Accuracy\")\n",
        "plt.show()\n",
        "print(\"\\nNaive Bayes gives an accuracy of {}%\".format(accuracy1))"
      ],
      "execution_count": 4,
      "outputs": [
        {
          "output_type": "display_data",
          "data": {
            "image/png": "[encoded data removed]",
            "text/plain": [
              "<Figure size 432x288 with 1 Axes>"
            ]
          },
          "metadata": {
            "needs_background": "light"
          }
        },
        {
          "output_type": "stream",
          "name": "stdout",
          "text": [
            "\n",
            "Naive Bayes gives an accuracy of [83.93074119076549, 85.84447144592953, 86.02673147023087, 86.45200486026732, 86.78614823815309]%\n"
          ]
        }
      ]
    },
    {
      "cell_type": "markdown",
      "metadata": {
        "id": "gBHwRU2jxn0_"
      },
      "source": [
        "# Random Forest Classifier"
      ]
    },
    {
      "cell_type": "code",
      "metadata": {
        "colab": {
          "base_uri": "https://localhost:8080/",
          "height": 376
        },
        "id": "VXHALhfXWSCi",
        "cellView": "form",
        "outputId": "7993054a-b22e-49ae-d126-8efb2549f907"
      },
      "source": [
        "#@title Select an estimator (Default values are selected)\n",
        "Estimator_Value1 = 1 #@param [\"1\", \"3\"] {type:\"raw\"}\n",
        "Estimator_Value2 = 5 #@param [\"5\", \"8\"] {type:\"raw\"}\n",
        "starttime2 = time.time()\n",
        "def randomforest(estimator):\n",
        "  model_randomforest = RandomForestClassifier(n_estimators=estimator)\n",
        "  model_randomforest.fit(X_train, y_train)\n",
        "  y_pred = model_randomforest.predict(X_test)\n",
        "  randomforest_accuracy = accuracy_score(y_test, y_pred)*100\n",
        "  \n",
        "  return randomforest_accuracy\n",
        "\n",
        "estimator = [Estimator_Value1, Estimator_Value2]\n",
        "accuracy2 = []\n",
        "for i in estimator:\n",
        "  accuracy2.append(randomforest(i))\n",
        "stoptime2 = time.time()\n",
        "trainingtime2 = stoptime2 - starttime2\n",
        "plt.bar(estimator, accuracy2, width=1)\n",
        "plt.ylim(60, 100)\n",
        "plt.title(\"\\nRandom Forest with different estimators and their accuracies\\n\\n\")\n",
        "plt.xlabel(\"Estimator\")\n",
        "plt.ylabel(\"Accuracy\")\n",
        "plt.show()\n",
        "print(\"\\nRandom forest classifier gives an accuracy of {}%\".format(accuracy2))"
      ],
      "execution_count": 5,
      "outputs": [
        {
          "output_type": "display_data",
          "data": {
            "image/png": "[encoded data removed]",
            "text/plain": [
              "<Figure size 432x288 with 1 Axes>"
            ]
          },
          "metadata": {
            "needs_background": "light"
          }
        },
        {
          "output_type": "stream",
          "name": "stdout",
          "text": [
            "\n",
            "Random forest classifier gives an accuracy of [86.90765492102067, 91.49453219927096]%\n"
          ]
        }
      ]
    },
    {
      "cell_type": "markdown",
      "metadata": {
        "id": "T9gu1Nw4M8Vm"
      },
      "source": [
        "# Logistic Regression"
      ]
    },
    {
      "cell_type": "code",
      "metadata": {
        "colab": {
          "base_uri": "https://localhost:8080/",
          "height": 332
        },
        "id": "61kPB31-NADU",
        "outputId": "ba96df7d-5c4c-4ea8-b209-d7e4f7982be3"
      },
      "source": [
        "starttime3 = time.time()\n",
        "def logistic_regression(penalty):\n",
        "  model_logisticregression = LogisticRegression(penalty=penalty, solver='saga')\n",
        "  model_logisticregression.fit(X_train, y_train)\n",
        "  y_pred = model_logisticregression.predict(X_test)\n",
        "  logisticregression_accuracy = accuracy_score(y_test, y_pred)*100\n",
        "  return logisticregression_accuracy\n",
        "  \n",
        "\n",
        "penalty = ['l1', 'l2', 'none']\n",
        "accuracy3 = []\n",
        "for i in penalty:\n",
        "  accuracy3.append(logistic_regression(i))\n",
        "stoptime3 = time.time()  \n",
        "trainingtime3 = stoptime3 - starttime3\n",
        "plt.bar(penalty, accuracy3)\n",
        "plt.ylim(60, 100)\n",
        "plt.title(\"Logistic Regression with different penalty and their accuracies\")\n",
        "plt.xlabel(\"Penalty\")\n",
        "plt.ylabel(\"Accuracy\")\n",
        "plt.show()\n",
        "print(\"\\nLogistic Regression gives an accuracy of {}%\".format(accuracy3))"
      ],
      "execution_count": 6,
      "outputs": [
        {
          "output_type": "display_data",
          "data": {
            "image/png": "[encoded data removed]",
            "text/plain": [
              "<Figure size 432x288 with 1 Axes>"
            ]
          },
          "metadata": {
            "needs_background": "light"
          }
        },
        {
          "output_type": "stream",
          "name": "stdout",
          "text": [
            "\n",
            "Logistic Regression gives an accuracy of [92.19319562575942, 91.98055893074118, 93.9854191980559]%\n"
          ]
        }
      ]
    },
    {
      "cell_type": "markdown",
      "metadata": {
        "id": "lYoxXLLtKMbQ"
      },
      "source": [
        "# Decision Tree Classifier"
      ]
    },
    {
      "cell_type": "code",
      "metadata": {
        "colab": {
          "base_uri": "https://localhost:8080/",
          "height": 332
        },
        "id": "3GQdvmmkKTFz",
        "outputId": "bf96352f-e919-474f-aac6-8960f14a6bf8"
      },
      "source": [
        "starttime4 = time.time()\n",
        "def decisiontree(min_impurity_decrease):\n",
        "  model_decisiontree = DecisionTreeClassifier(min_impurity_decrease=min_impurity_decrease)\n",
        "  model_decisiontree.fit(X_train, y_train)\n",
        "  y_pred = model_decisiontree.predict(X_test)\n",
        "  decisiontree_accuracy = accuracy_score(y_test, y_pred)*100\n",
        "  \n",
        "  return decisiontree_accuracy\n",
        "\n",
        "min_impurity_decrease = [0, 0.001, 0.1, 0.5, 0.9]\n",
        "accuracy4 = []\n",
        "for i in min_impurity_decrease:\n",
        "  accuracy4.append(decisiontree(i))\n",
        "stoptime4 = time.time()  \n",
        "trainingtime4 = stoptime4 - starttime4 \n",
        "plt.bar(min_impurity_decrease, accuracy4, width=0.05, color ='grcmykb')\n",
        "plt.ylim(60, 100)\n",
        "plt.title(\"Decision tree with different impurity and their accuracies\")\n",
        "plt.xlabel(\"Impurity\")\n",
        "plt.ylabel(\"Accuracy\")\n",
        "plt.show()\n",
        "print(\"\\nDecision tree gives an accuracy of {}%\".format(accuracy4))"
      ],
      "execution_count": 7,
      "outputs": [
        {
          "output_type": "display_data",
          "data": {
            "image/png": "[encoded data removed]",
            "text/plain": [
              "<Figure size 432x288 with 1 Axes>"
            ]
          },
          "metadata": {
            "needs_background": "light"
          }
        },
        {
          "output_type": "stream",
          "name": "stdout",
          "text": [
            "\n",
            "Decision tree gives an accuracy of [92.16281895504252, 91.28189550425273, 90.03645200486027, 55.893074119076545, 55.893074119076545]%\n"
          ]
        }
      ]
    },
    {
      "cell_type": "markdown",
      "metadata": {
        "id": "DTqCvS7bQru4"
      },
      "source": [
        "# K-Nearest Neighbor"
      ]
    },
    {
      "cell_type": "code",
      "metadata": {
        "colab": {
          "base_uri": "https://localhost:8080/",
          "height": 332
        },
        "id": "J8NW77LCQrEK",
        "outputId": "6030c87d-7917-4613-b1c9-d6dbf69f82be"
      },
      "source": [
        "starttime5 = time.time()\n",
        "def knearest(n_neighbors):\n",
        "  model_knearest = KNeighborsClassifier(n_neighbors=n_neighbors)\n",
        "  model_knearest.fit(X_train, y_train)\n",
        "  y_pred = model_knearest.predict(X_test)\n",
        "  knearest_accuracy = accuracy_score(y_test, y_pred)*100\n",
        "  \n",
        "  return knearest_accuracy\n",
        "\n",
        "n_neighbors = [5, 10, 50]\n",
        "accuracy5 = []\n",
        "for i in n_neighbors:\n",
        "  accuracy5.append(knearest(i))\n",
        "stoptime5 = time.time()\n",
        "trainingtime5 = stoptime5 - starttime5  \n",
        "plt.bar(n_neighbors, accuracy5, width=3)\n",
        "plt.ylim(60, 100)\n",
        "plt.title(\"K-Nearest Neighbor with different neighbors and their accuracies\")\n",
        "plt.xlabel(\"Neighbors\")\n",
        "plt.ylabel(\"Accuracy\")\n",
        "plt.show()\n",
        "print(\"\\nK-Nearest Neighbor gives an accuracy of {}%\".format(accuracy5))"
      ],
      "execution_count": 8,
      "outputs": [
        {
          "output_type": "display_data",
          "data": {
            "image/png": "[encoded data removed]",
            "text/plain": [
              "<Figure size 432x288 with 1 Axes>"
            ]
          },
          "metadata": {
            "needs_background": "light"
          }
        },
        {
          "output_type": "stream",
          "name": "stdout",
          "text": [
            "\n",
            "K-Nearest Neighbor gives an accuracy of [82.98906439854193, 82.65492102065613, 83.26245443499393]%\n"
          ]
        }
      ]
    },
    {
      "cell_type": "markdown",
      "metadata": {
        "id": "ABXAXxnmSsX1"
      },
      "source": [
        "# AdaBoostClassifier"
      ]
    },
    {
      "cell_type": "code",
      "metadata": {
        "colab": {
          "base_uri": "https://localhost:8080/",
          "height": 332
        },
        "id": "ove4MW0BStys",
        "outputId": "db7fb4e3-d8ea-4f0e-ff92-782b2b90f2f9"
      },
      "source": [
        "starttime6 = time.time()\n",
        "def adaboost(learning_rate):\n",
        "  model_adaboost = AdaBoostClassifier(learning_rate=learning_rate)\n",
        "  model_adaboost.fit(X_train, y_train)\n",
        "  y_pred = model_adaboost.predict(X_test)\n",
        "  adaboost_accuracy = accuracy_score(y_test, y_pred)*100\n",
        "  \n",
        "  return adaboost_accuracy\n",
        "\n",
        "learning_rate = [0.0001, 0.01, 0.1, 1, 2]\n",
        "accuracy6 = []\n",
        "for i in learning_rate:\n",
        "  accuracy6.append(adaboost(i))\n",
        "stoptime6 = time.time() \n",
        "trainingtime6 = stoptime6 - starttime6  \n",
        "plt.bar(learning_rate, accuracy6, width=0.5)\n",
        "plt.ylim(60, 100)\n",
        "plt.title(\"Adaboost accuracy with different learning rate and their accuracies\")\n",
        "plt.xlabel(\"Learning rate\")\n",
        "plt.ylabel(\"Accuracy\")\n",
        "plt.show()\n",
        "print(\"\\nAdaboost gives an accuracy of {}%\".format(accuracy6))"
      ],
      "execution_count": 9,
      "outputs": [
        {
          "output_type": "display_data",
          "data": {
            "image/png": "[encoded data removed]",
            "text/plain": [
              "<Figure size 432x288 with 1 Axes>"
            ]
          },
          "metadata": {
            "needs_background": "light"
          }
        },
        {
          "output_type": "stream",
          "name": "stdout",
          "text": [
            "\n",
            "Adaboost gives an accuracy of [78.21992709599029, 90.03645200486027, 89.94532199270961, 91.3730255164034, 90.03645200486027]%\n"
          ]
        }
      ]
    },
    {
      "cell_type": "markdown",
      "metadata": {
        "id": "35q-zM62CK1k"
      },
      "source": [
        "# Support Vector Machine"
      ]
    },
    {
      "cell_type": "code",
      "metadata": {
        "colab": {
          "base_uri": "https://localhost:8080/",
          "height": 332
        },
        "id": "m0fGkqxJCIs0",
        "outputId": "65b0dc2f-55f3-48dc-b08f-0e37a316fd79"
      },
      "source": [
        "starttime7 = time.time()\n",
        "def svmmodel(degree):\n",
        "  model_svm = svm.SVC(C=degree)\n",
        "  model_svm.fit(X_train, y_train)\n",
        "  y_pred = model_svm.predict(X_test)\n",
        "  svm_accuracy = accuracy_score(y_test, y_pred)*100\n",
        "  \n",
        "  return svm_accuracy\n",
        "\n",
        "degree = [1, 10]\n",
        "accuracy7 = []\n",
        "for i in degree:\n",
        "  accuracy7.append(svmmodel(i))\n",
        "stoptime7 = time.time()\n",
        "trainingtime7 = stoptime7 - starttime7   \n",
        "plt.bar(degree, accuracy7, width=4)\n",
        "plt.ylim(60, 100)\n",
        "plt.title(\"Support Vector Machine with different degrees and their accuracies\")\n",
        "plt.xlabel(\"Degree\")\n",
        "plt.ylabel(\"Accuracy\")\n",
        "plt.show()\n",
        "print(\"\\nSupport Vector Machine gives an accuracy of {}%\".format(accuracy7))"
      ],
      "execution_count": 10,
      "outputs": [
        {
          "output_type": "display_data",
          "data": {
            "image/png": "[encoded data removed]",
            "text/plain": [
              "<Figure size 432x288 with 1 Axes>"
            ]
          },
          "metadata": {
            "needs_background": "light"
          }
        },
        {
          "output_type": "stream",
          "name": "stdout",
          "text": [
            "\n",
            "Support Vector Machine gives an accuracy of [92.13244228432563, 93.16524908869988]%\n"
          ]
        }
      ]
    },
    {
      "cell_type": "markdown",
      "metadata": {
        "id": "qo2POA1j22ns"
      },
      "source": [
        "# Comparison and visualization of different models accuracies"
      ]
    },
    {
      "cell_type": "code",
      "metadata": {
        "colab": {
          "base_uri": "https://localhost:8080/",
          "height": 582
        },
        "id": "5zKjt9QAhxGp",
        "outputId": "308e2b3b-303b-4092-8ba6-77b1a2c4791a"
      },
      "source": [
        "all_model_accuracies = [np.max(accuracy1), np.max(accuracy2), np.max(accuracy3), np.max(accuracy4), np.max(accuracy5), np.max(accuracy6), np.max(accuracy7)]\n",
        "all_model_names = ['Naive', 'Random', 'Logistic', 'Decision', 'KNN', 'AdaBoost', 'SVM']\n",
        "all_model_trainingtime = [(trainingtime1/60), (trainingtime2/60), (trainingtime3/60), (trainingtime4/60), (trainingtime5/60), (trainingtime6/60), (trainingtime7/60)]\n",
        "plt.title(\"Comparison of different models and their accuracies\")\n",
        "plt.ylabel(\"Accuracy in percentage\")\n",
        "plt.bar(all_model_names, all_model_accuracies, width=0.8, color = 'grcmykb')\n",
        "plt.show()\n",
        "print(\"\\n\")\n",
        "plt.ylabel(\"Accuracy in percentage\")\n",
        "plt.title(\"Accuracy plot\")\n",
        "plt.plot(all_model_names, all_model_accuracies, color='red')\n",
        "plt.show()"
      ],
      "execution_count": 11,
      "outputs": [
        {
          "output_type": "display_data",
          "data": {
            "image/png": "[encoded data removed]",
            "text/plain": [
              "<Figure size 432x288 with 1 Axes>"
            ]
          },
          "metadata": {
            "needs_background": "light"
          }
        },
        {
          "output_type": "stream",
          "name": "stdout",
          "text": [
            "\n",
            "\n"
          ]
        },
        {
          "output_type": "display_data",
          "data": {
            "image/png": "[encoded data removed]",
            "text/plain": [
              "<Figure size 432x288 with 1 Axes>"
            ]
          },
          "metadata": {
            "needs_background": "light"
          }
        }
      ]
    },
    {
      "cell_type": "markdown",
      "metadata": {
        "id": "cLHyA3-kHYZp"
      },
      "source": [
        "# Training time comparison and visualization of different models"
      ]
    },
    {
      "cell_type": "code",
      "metadata": {
        "colab": {
          "base_uri": "https://localhost:8080/",
          "height": 582
        },
        "id": "h3ECYoivHH32",
        "outputId": "dbbb6a01-e2e7-4ff0-9b01-912397e6f980"
      },
      "source": [
        "plt.bar(all_model_names, all_model_trainingtime, color = 'grcmykb')\n",
        "plt.title(\"Comparison of training time\")\n",
        "plt.ylabel(\"Training time in minutes\")\n",
        "plt.show()\n",
        "print(\"\\n\")\n",
        "plt.plot(all_model_names, all_model_trainingtime, color='red')\n",
        "plt.title(\"Training time plot\")\n",
        "plt.ylabel(\"Training time in minutes\")\n",
        "plt.show()"
      ],
      "execution_count": 12,
      "outputs": [
        {
          "output_type": "display_data",
          "data": {
            "image/png": "[encoded data removed]",
            "text/plain": [
              "<Figure size 432x288 with 1 Axes>"
            ]
          },
          "metadata": {
            "needs_background": "light"
          }
        },
        {
          "output_type": "stream",
          "name": "stdout",
          "text": [
            "\n",
            "\n"
          ]
        },
        {
          "output_type": "display_data",
          "data": {
            "image/png": "[encoded data removed]",
            "text/plain": [
              "<Figure size 432x288 with 1 Axes>"
            ]
          },
          "metadata": {
            "needs_background": "light"
          }
        }
      ]
    }
  ]
}